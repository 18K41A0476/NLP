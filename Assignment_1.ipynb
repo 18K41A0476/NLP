{
  "nbformat": 4,
  "nbformat_minor": 0,
  "metadata": {
    "colab": {
      "name": "Assignment -1",
      "provenance": [],
      "authorship_tag": "ABX9TyNHz7BW7CW6CPLLW8CYCyAi",
      "include_colab_link": true
    },
    "kernelspec": {
      "name": "python3",
      "display_name": "Python 3"
    },
    "language_info": {
      "name": "python"
    }
  },
  "cells": [
    {
      "cell_type": "markdown",
      "metadata": {
        "id": "view-in-github",
        "colab_type": "text"
      },
      "source": [
        "<a href=\"https://colab.research.google.com/github/18K41A0476/NLP/blob/main/Assignment_1.ipynb\" target=\"_parent\"><img src=\"https://colab.research.google.com/assets/colab-badge.svg\" alt=\"Open In Colab\"/></a>"
      ]
    },
    {
      "cell_type": "code",
      "metadata": {
        "colab": {
          "base_uri": "https://localhost:8080/"
        },
        "id": "kUvxszCvreTq",
        "outputId": "78c84a35-8ee9-410f-dac5-4295421ff572"
      },
      "source": [
        "import nltk\n",
        "nltk.download('punkt')"
      ],
      "execution_count": 1,
      "outputs": [
        {
          "output_type": "stream",
          "name": "stdout",
          "text": [
            "[nltk_data] Downloading package punkt to /root/nltk_data...\n",
            "[nltk_data]   Unzipping tokenizers/punkt.zip.\n"
          ]
        },
        {
          "output_type": "execute_result",
          "data": {
            "text/plain": [
              "True"
            ]
          },
          "metadata": {},
          "execution_count": 1
        }
      ]
    },
    {
      "cell_type": "code",
      "metadata": {
        "colab": {
          "base_uri": "https://localhost:8080/"
        },
        "id": "HHtr1dAcrl5H",
        "outputId": "d8472bf9-b608-453d-d0b1-71ac5e6355d1"
      },
      "source": [
        "#1)Sentence tokenizing\n",
        "from nltk.tokenize import sent_tokenize\n",
        "text = '''Are  you  fascinated  by  the  amount  of  text  data  available  on  the  internet?  Are  you looking  for  ways  to  work  with  this  text  data  but  aren’t  sure  where  to  begin? Machines, after all, recognize numbers, not the letters of our language. And that can be a tricky landscape to navigate in machine learning.'''\n",
        "text1=''\n",
        "text1=sent_tokenize(text)\n",
        "for i in text1:\n",
        "    print(i)"
      ],
      "execution_count": 2,
      "outputs": [
        {
          "output_type": "stream",
          "name": "stdout",
          "text": [
            "Are  you  fascinated  by  the  amount  of  text  data  available  on  the  internet?\n",
            "Are  you looking  for  ways  to  work  with  this  text  data  but  aren’t  sure  where  to  begin?\n",
            "Machines, after all, recognize numbers, not the letters of our language.\n",
            "And that can be a tricky landscape to navigate in machine learning.\n"
          ]
        }
      ]
    },
    {
      "cell_type": "code",
      "metadata": {
        "colab": {
          "base_uri": "https://localhost:8080/"
        },
        "id": "ONDeSVC9ro1M",
        "outputId": "b01df8c9-b379-43ec-812d-9c19a55f0bd1"
      },
      "source": [
        "#2)word splitting\n",
        "from nltk.tokenize import word_tokenize\n",
        "text =  '''Are  you  fascinated  by  the  amount  of  text  data  available  on  the  internet?  Are  you looking  for  ways  to  work  with  this  text  data  but  aren’t  sure  where  to  begin? Machines, after all, recognize numbers, not the letters of our language. And that can be a tricky landscape to navigate in machine learning.'''\n",
        "text1=''\n",
        "text1=word_tokenize(text)\n",
        "for i in text1:\n",
        "    print(i)"
      ],
      "execution_count": 3,
      "outputs": [
        {
          "output_type": "stream",
          "name": "stdout",
          "text": [
            "Are\n",
            "you\n",
            "fascinated\n",
            "by\n",
            "the\n",
            "amount\n",
            "of\n",
            "text\n",
            "data\n",
            "available\n",
            "on\n",
            "the\n",
            "internet\n",
            "?\n",
            "Are\n",
            "you\n",
            "looking\n",
            "for\n",
            "ways\n",
            "to\n",
            "work\n",
            "with\n",
            "this\n",
            "text\n",
            "data\n",
            "but\n",
            "aren\n",
            "’\n",
            "t\n",
            "sure\n",
            "where\n",
            "to\n",
            "begin\n",
            "?\n",
            "Machines\n",
            ",\n",
            "after\n",
            "all\n",
            ",\n",
            "recognize\n",
            "numbers\n",
            ",\n",
            "not\n",
            "the\n",
            "letters\n",
            "of\n",
            "our\n",
            "language\n",
            ".\n",
            "And\n",
            "that\n",
            "can\n",
            "be\n",
            "a\n",
            "tricky\n",
            "landscape\n",
            "to\n",
            "navigate\n",
            "in\n",
            "machine\n",
            "learning\n",
            ".\n"
          ]
        }
      ]
    },
    {
      "cell_type": "code",
      "metadata": {
        "colab": {
          "base_uri": "https://localhost:8080/"
        },
        "id": "61NdZfrqrqyE",
        "outputId": "727a0d5a-d31d-49ba-8f97-aae77cefaf2e"
      },
      "source": [
        "#3)stem words\n",
        "from nltk.stem import PorterStemmer \n",
        "from nltk.tokenize import word_tokenize\n",
        "w=[\"cats\",\"trouble\",\"troubling\",\"troubled\",\"having\",\"Corriendo\",\"at\",\"was\"]\n",
        "x=PorterStemmer()\n",
        "for i in w:\n",
        "    print(i,x.stem(i))"
      ],
      "execution_count": 4,
      "outputs": [
        {
          "output_type": "stream",
          "name": "stdout",
          "text": [
            "cats cat\n",
            "trouble troubl\n",
            "troubling troubl\n",
            "troubled troubl\n",
            "having have\n",
            "Corriendo corriendo\n",
            "at at\n",
            "was wa\n"
          ]
        }
      ]
    },
    {
      "cell_type": "code",
      "metadata": {
        "colab": {
          "base_uri": "https://localhost:8080/"
        },
        "id": "dwQ3b8qIrvnT",
        "outputId": "d88682ce-273e-4d5e-f375-4da18b7de87e"
      },
      "source": [
        "nltk.download('wordnet')"
      ],
      "execution_count": 5,
      "outputs": [
        {
          "output_type": "stream",
          "name": "stdout",
          "text": [
            "[nltk_data] Downloading package wordnet to /root/nltk_data...\n",
            "[nltk_data]   Unzipping corpora/wordnet.zip.\n"
          ]
        },
        {
          "output_type": "execute_result",
          "data": {
            "text/plain": [
              "True"
            ]
          },
          "metadata": {},
          "execution_count": 5
        }
      ]
    },
    {
      "cell_type": "code",
      "metadata": {
        "colab": {
          "base_uri": "https://localhost:8080/"
        },
        "id": "ZypNp4ufryc7",
        "outputId": "f11e2451-878b-4989-e902-42394a8097c6"
      },
      "source": [
        "#3)lemma words\n",
        "from nltk.stem import WordNetLemmatizer\n",
        "w=[\"cats\",\"trouble\",\"troubling\",\"troubled\",\"having\",\"Corriendo\",\"at\",\"was\"]\n",
        "x= WordNetLemmatizer()\n",
        "for i in w:\n",
        "    print(i,x.lemmatize(i))"
      ],
      "execution_count": 6,
      "outputs": [
        {
          "output_type": "stream",
          "name": "stdout",
          "text": [
            "cats cat\n",
            "trouble trouble\n",
            "troubling troubling\n",
            "troubled troubled\n",
            "having having\n",
            "Corriendo Corriendo\n",
            "at at\n",
            "was wa\n"
          ]
        }
      ]
    },
    {
      "cell_type": "code",
      "metadata": {
        "colab": {
          "base_uri": "https://localhost:8080/"
        },
        "id": "TnIt3029r7xF",
        "outputId": "82df8453-cf74-4430-fe35-19abe0636f87"
      },
      "source": [
        "import nltk\n",
        "nltk.download('stopwords')"
      ],
      "execution_count": 8,
      "outputs": [
        {
          "output_type": "stream",
          "name": "stdout",
          "text": [
            "[nltk_data] Downloading package stopwords to /root/nltk_data...\n",
            "[nltk_data]   Unzipping corpora/stopwords.zip.\n"
          ]
        },
        {
          "output_type": "execute_result",
          "data": {
            "text/plain": [
              "True"
            ]
          },
          "metadata": {},
          "execution_count": 8
        }
      ]
    },
    {
      "cell_type": "code",
      "metadata": {
        "colab": {
          "base_uri": "https://localhost:8080/"
        },
        "id": "Qliyef6RsBCT",
        "outputId": "856933c0-4fdc-4970-b47f-0c39b3de673c"
      },
      "source": [
        "#4)stop words\n",
        "from nltk.corpus import stopwords\n",
        "stop_words=set(stopwords.words(\"english\"))\n",
        "text=\"\"\"\n",
        "“The NLTK library is one of the oldest and most commonly used Python libraries for Natural Language Processing. NLTK supports stop word removal, and you can find the list of stop words in the corpus module. To remove stop words from a sentence, you can divide your text into words and then remove the word if it exits in the list of stop words provided by NLTK.”\n",
        "\"\"\"\n",
        "words=word_tokenize(text)\n",
        "l=[]\n",
        "for w in words:\n",
        "    if w not in stop_words:\n",
        "        l.append(w)\n",
        "print(l)"
      ],
      "execution_count": 9,
      "outputs": [
        {
          "output_type": "stream",
          "name": "stdout",
          "text": [
            "['“', 'The', 'NLTK', 'library', 'one', 'oldest', 'commonly', 'used', 'Python', 'libraries', 'Natural', 'Language', 'Processing', '.', 'NLTK', 'supports', 'stop', 'word', 'removal', ',', 'find', 'list', 'stop', 'words', 'corpus', 'module', '.', 'To', 'remove', 'stop', 'words', 'sentence', ',', 'divide', 'text', 'words', 'remove', 'word', 'exits', 'list', 'stop', 'words', 'provided', 'NLTK', '.', '”']\n"
          ]
        }
      ]
    },
    {
      "cell_type": "code",
      "metadata": {
        "colab": {
          "base_uri": "https://localhost:8080/"
        },
        "id": "38b2Hf15sEbM",
        "outputId": "770f3372-ed0e-428e-95dc-2331517b51d7"
      },
      "source": [
        "#5)printing frequency of each word\n",
        "import nltk\n",
        "from nltk.corpus import webtext\n",
        "from nltk.probability import FreqDist\n",
        "from nltk.tokenize import word_tokenize\n",
        "text=\"\"\"\n",
        "“The NLTK library is one of the oldest and most commonly used Python libraries for Natural Language Processing. NLTK supports stop word removal, and you can find the list of stop words in the corpus module. To remove stop words from a sentence, you can divide your text into words and then remove the word if it exits in the list of stop words provided by NLTK.”\n",
        "\"\"\"\n",
        " \n",
        "w= word_tokenize(text)\n",
        "d = nltk.FreqDist(w)\n",
        "fw = dict([(m, n) for m, n in d.items() if len(m) > 3])\n",
        "for i in sorted(fw):\n",
        "    print(\"%s: %s\" % (i, fw[i]))"
      ],
      "execution_count": 10,
      "outputs": [
        {
          "output_type": "stream",
          "name": "stdout",
          "text": [
            "Language: 1\n",
            "NLTK: 3\n",
            "Natural: 1\n",
            "Processing: 1\n",
            "Python: 1\n",
            "commonly: 1\n",
            "corpus: 1\n",
            "divide: 1\n",
            "exits: 1\n",
            "find: 1\n",
            "from: 1\n",
            "into: 1\n",
            "libraries: 1\n",
            "library: 1\n",
            "list: 2\n",
            "module: 1\n",
            "most: 1\n",
            "oldest: 1\n",
            "provided: 1\n",
            "removal: 1\n",
            "remove: 2\n",
            "sentence: 1\n",
            "stop: 4\n",
            "supports: 1\n",
            "text: 1\n",
            "then: 1\n",
            "used: 1\n",
            "word: 2\n",
            "words: 4\n",
            "your: 1\n"
          ]
        }
      ]
    }
  ]
}